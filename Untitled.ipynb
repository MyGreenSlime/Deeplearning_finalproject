{
 "cells": [
  {
   "cell_type": "code",
   "execution_count": 1,
   "metadata": {},
   "outputs": [],
   "source": [
    "import os\n",
    "import cv2\n",
    "import numpy as np\n",
    "from tensorflow.keras.preprocessing.image import load_img\n",
    "from tensorflow.keras.preprocessing.image import img_to_array\n",
    "from tensorflow.keras.preprocessing.image import array_to_img\n",
    "\n",
    "import tensorflow as tf\n",
    "from tensorflow.keras.models import Sequential\n",
    "from tensorflow.keras.layers import Dense, Dropout, Activation, Flatten\n",
    "from tensorflow.keras.layers import Conv2D, MaxPooling2D"
   ]
  },
  {
   "cell_type": "code",
   "execution_count": 2,
   "metadata": {},
   "outputs": [],
   "source": [
    "BasePath = \"./PokemonData/\"\n",
    "AllPokemonKinds = os.listdir(BasePath)"
   ]
  },
  {
   "cell_type": "code",
   "execution_count": 3,
   "metadata": {},
   "outputs": [
    {
     "name": "stdout",
     "output_type": "stream",
     "text": [
      "Abra\n"
     ]
    },
    {
     "name": "stderr",
     "output_type": "stream",
     "text": [
      "C:\\Anaconda3\\envs\\year4_dl\\lib\\site-packages\\keras_preprocessing\\image\\utils.py:104: UserWarning: grayscale is deprecated. Please use color_mode = \"grayscale\"\n",
      "  warnings.warn('grayscale is deprecated. Please use '\n"
     ]
    },
    {
     "name": "stdout",
     "output_type": "stream",
     "text": [
      "Aerodactyl\n",
      "Alakazam\n",
      "Alolan Sandslash\n",
      "Arbok\n",
      "Arcanine\n",
      "Articuno\n",
      "Beedrill\n",
      "Bellsprout\n",
      "Blastoise\n",
      "Bulbasaur\n",
      "Butterfree\n",
      "Caterpie\n",
      "Chansey\n",
      "Charizard\n",
      "Charmander\n",
      "Charmeleon\n",
      "Clefable\n",
      "Clefairy\n",
      "Cloyster\n",
      "error ff270ebfab0f46b3b05c3fecd6a15ef9.svg\n",
      "Cubone\n",
      "Dewgong\n",
      "error e3ecbb47e192470aa8686734b7813b43.svg\n",
      "Diglett\n",
      "Ditto\n",
      "Dodrio\n",
      "Doduo\n",
      "Dragonair\n",
      "Dragonite\n",
      "Dratini\n",
      "Drowzee\n",
      "Dugtrio\n",
      "Eevee\n",
      "Ekans\n",
      "Electabuzz\n",
      "Electrode\n",
      "Exeggcute\n",
      "Exeggutor\n",
      "error 2b8bc491c5ca4e788999f8ea53617638.svg\n",
      "error f29b4f9fccff4055b167ece6556143cd.svg\n",
      "Farfetchd\n",
      "Fearow\n",
      "Flareon\n",
      "Gastly\n",
      "Gengar\n",
      "Geodude\n",
      "Gloom\n",
      "Golbat\n",
      "Goldeen\n",
      "Golduck\n",
      "error bc08a691e7cb41b0bec2adf931dc9634.svg\n",
      "Golem\n",
      "Graveler\n",
      "error 3fe3c6a0bbd14de89092d2c675f743c1.svg\n",
      "Grimer\n",
      "Growlithe\n",
      "Gyarados\n",
      "Haunter\n",
      "Hitmonchan\n",
      "Hitmonlee\n",
      "Horsea\n",
      "Hypno\n",
      "Ivysaur\n",
      "Jigglypuff\n",
      "Jolteon\n",
      "Jynx\n",
      "Kabuto\n",
      "Kabutops\n",
      "Kadabra\n",
      "Kakuna\n",
      "Kangaskhan\n",
      "Kingler\n",
      "Koffing\n",
      "Krabby\n",
      "Lapras\n",
      "Lickitung\n",
      "Machamp\n",
      "Machoke\n",
      "Machop\n",
      "Magikarp\n",
      "Magmar\n",
      "Magnemite\n",
      "Magneton\n",
      "error 45e434d002bd44eeb1acbc2decc8ee0f.svg\n",
      "Mankey\n",
      "Marowak\n",
      "Meowth\n",
      "Metapod\n",
      "Mew\n",
      "Mewtwo\n",
      "Moltres\n",
      "MrMime\n",
      "Muk\n",
      "Nidoking\n",
      "Nidoqueen\n",
      "Nidorina\n",
      "Nidorino\n",
      "Ninetales\n",
      "Oddish\n",
      "Omanyte\n",
      "Omastar\n",
      "error 1be6e7da1bba4379b298b20013c57b4b.svg\n",
      "Onix\n",
      "Paras\n",
      "Parasect\n",
      "Persian\n",
      "Pidgeot\n",
      "Pidgeotto\n",
      "Pidgey\n",
      "Pikachu\n",
      "Pinsir\n",
      "Poliwag\n",
      "Poliwhirl\n",
      "Poliwrath\n",
      "Ponyta\n",
      "Porygon\n",
      "Primeape\n",
      "Psyduck\n",
      "Raichu\n",
      "Rapidash\n",
      "Raticate\n",
      "Rattata\n",
      "Rhydon\n",
      "Rhyhorn\n",
      "Sandshrew\n",
      "Sandslash\n",
      "Scyther\n",
      "error a8734f10941a4deb95fcf7388e4fe8e2.svg\n",
      "Seadra\n",
      "Seaking\n",
      "Seel\n",
      "Shellder\n",
      "Slowbro\n",
      "Slowpoke\n",
      "Snorlax\n",
      "Spearow\n",
      "Squirtle\n",
      "Starmie\n",
      "Staryu\n",
      "Tangela\n",
      "Tauros\n",
      "Tentacool\n",
      "Tentacruel\n",
      "error d6fb0a3046364ea2b49525c6f6b966e5.svg\n",
      "Vaporeon\n",
      "Venomoth\n",
      "error bb5d47bced6e4e33a77faa17e1eec906.svg\n",
      "Venonat\n",
      "Venusaur\n",
      "Victreebel\n",
      "Vileplume\n",
      "Voltorb\n",
      "Vulpix\n",
      "Wartortle\n",
      "Weedle\n",
      "Weepinbell\n",
      "Weezing\n",
      "Wigglytuff\n",
      "Zapdos\n",
      "error c99b2d19544c4cbbacd7711ade660279.svg\n",
      "Zubat\n"
     ]
    }
   ],
   "source": [
    "labels = []\n",
    "imgs = []\n",
    "dim = (256,256)\n",
    "for ind,kind in enumerate(AllPokemonKinds):\n",
    "    PokemonPics = os.listdir(BasePath+kind)\n",
    "    print(kind)\n",
    "    for picname in PokemonPics:     \n",
    "        try:\n",
    "            img = load_img(BasePath+kind+\"/\"+picname, grayscale = True)\n",
    "            img = img_to_array(img)\n",
    "            img_resized = cv2.resize(img, dim, interpolation = cv2.INTER_AREA)\n",
    "            imgs.append(img_resized)\n",
    "            labels.append(ind)\n",
    "        except:\n",
    "            print(\"error\", picname)\n",
    "            continue"
   ]
  },
  {
   "cell_type": "code",
   "execution_count": 4,
   "metadata": {},
   "outputs": [],
   "source": [
    "imgs = np.array(imgs)\n"
   ]
  },
  {
   "cell_type": "code",
   "execution_count": 5,
   "metadata": {},
   "outputs": [],
   "source": [
    "labels = np.array(labels)"
   ]
  },
  {
   "cell_type": "code",
   "execution_count": 6,
   "metadata": {},
   "outputs": [],
   "source": [
    "imgs =  imgs.reshape(6825,256,256,1)"
   ]
  },
  {
   "cell_type": "code",
   "execution_count": 7,
   "metadata": {},
   "outputs": [
    {
     "data": {
      "text/plain": [
       "(6825, 256, 256, 1)"
      ]
     },
     "execution_count": 7,
     "metadata": {},
     "output_type": "execute_result"
    }
   ],
   "source": [
    "imgs.shape"
   ]
  },
  {
   "cell_type": "code",
   "execution_count": 8,
   "metadata": {},
   "outputs": [
    {
     "data": {
      "text/plain": [
       "(6825,)"
      ]
     },
     "execution_count": 8,
     "metadata": {},
     "output_type": "execute_result"
    }
   ],
   "source": [
    "labels.shape"
   ]
  },
  {
   "cell_type": "code",
   "execution_count": 9,
   "metadata": {},
   "outputs": [
    {
     "data": {
      "text/plain": [
       "array([  0,   1,   2,   3,   4,   5,   6,   7,   8,   9,  10,  11,  12,\n",
       "        13,  14,  15,  16,  17,  18,  19,  20,  21,  22,  23,  24,  25,\n",
       "        26,  27,  28,  29,  30,  31,  32,  33,  34,  35,  36,  37,  38,\n",
       "        39,  40,  41,  42,  43,  44,  45,  46,  47,  48,  49,  50,  51,\n",
       "        52,  53,  54,  55,  56,  57,  58,  59,  60,  61,  62,  63,  64,\n",
       "        65,  66,  67,  68,  69,  70,  71,  72,  73,  74,  75,  76,  77,\n",
       "        78,  79,  80,  81,  82,  83,  84,  85,  86,  87,  88,  89,  90,\n",
       "        91,  92,  93,  94,  95,  96,  97,  98,  99, 100, 101, 102, 103,\n",
       "       104, 105, 106, 107, 108, 109, 110, 111, 112, 113, 114, 115, 116,\n",
       "       117, 118, 119, 120, 121, 122, 123, 124, 125, 126, 127, 128, 129,\n",
       "       130, 131, 132, 133, 134, 135, 136, 137, 138, 139, 140, 141, 142,\n",
       "       143, 144, 145, 146, 147, 148, 149])"
      ]
     },
     "execution_count": 9,
     "metadata": {},
     "output_type": "execute_result"
    }
   ],
   "source": [
    "np.unique(labels)"
   ]
  },
  {
   "cell_type": "code",
   "execution_count": 10,
   "metadata": {},
   "outputs": [],
   "source": [
    "from sklearn.model_selection import train_test_split"
   ]
  },
  {
   "cell_type": "code",
   "execution_count": 11,
   "metadata": {},
   "outputs": [],
   "source": [
    "X_train, X_Test, y_train, y_test = train_test_split(imgs, labels, test_size = 0.3, random_state = 1)"
   ]
  },
  {
   "cell_type": "code",
   "execution_count": 12,
   "metadata": {},
   "outputs": [],
   "source": [
    "def GenModel(X_train):\n",
    "    model = Sequential()\n",
    "    model.add(Conv2D(32, (3, 3), padding='same',input_shape=X_train.shape[1:]))\n",
    "    model.add(Activation('relu'))\n",
    "    model.add(Conv2D(32, (3, 3)))\n",
    "    model.add(Activation('relu'))\n",
    "    model.add(MaxPooling2D(pool_size=(2, 2)))\n",
    "    model.add(Dropout(0.25))\n",
    "\n",
    "    model.add(Conv2D(64, (3, 3), padding='same'))\n",
    "    model.add(Activation('relu'))\n",
    "    model.add(Conv2D(64, (3, 3)))\n",
    "    model.add(Activation('relu'))\n",
    "    model.add(MaxPooling2D(pool_size=(2, 2)))\n",
    "    model.add(Dropout(0.25))\n",
    "\n",
    "    model.add(Flatten())\n",
    "    model.add(Dense(512))\n",
    "    model.add(Activation('relu'))\n",
    "    model.add(Dropout(0.5))\n",
    "    model.add(Dense(150))\n",
    "    model.add(Activation('softmax'))\n",
    "    opt = tf.keras.optimizers.RMSprop(learning_rate=0.0001, decay=1e-6)\n",
    "\n",
    "    # Let's train the model using RMSprop\n",
    "    model.compile(loss='sparse_categorical_crossentropy',optimizer=opt,metrics=['accuracy'])\n",
    "    return model"
   ]
  },
  {
   "cell_type": "code",
   "execution_count": 13,
   "metadata": {},
   "outputs": [],
   "source": [
    "model = GenModel(X_train)"
   ]
  },
  {
   "cell_type": "code",
   "execution_count": null,
   "metadata": {},
   "outputs": [
    {
     "name": "stdout",
     "output_type": "stream",
     "text": [
      "Train on 4777 samples, validate on 2048 samples\n",
      "Epoch 1/500\n",
      "4777/4777 [==============================] - 1004s 210ms/sample - loss: 5.1890 - accuracy: 0.0059 - val_loss: 5.0108 - val_accuracy: 0.0093\n",
      "Epoch 2/500\n",
      "4777/4777 [==============================] - 987s 207ms/sample - loss: 5.0826 - accuracy: 0.0100 - val_loss: 5.0135 - val_accuracy: 0.0029\n",
      "Epoch 3/500\n",
      "1792/4777 [==========>...................] - ETA: 9:32 - loss: 5.0254 - accuracy: 0.0061"
     ]
    }
   ],
   "source": [
    "model.fit(X_train, y_train , validation_data = (X_Test, y_test), epochs = 500, verbose = 1, batch_size = 32)"
   ]
  },
  {
   "cell_type": "code",
   "execution_count": null,
   "metadata": {},
   "outputs": [],
   "source": []
  },
  {
   "cell_type": "code",
   "execution_count": null,
   "metadata": {},
   "outputs": [],
   "source": []
  },
  {
   "cell_type": "code",
   "execution_count": null,
   "metadata": {},
   "outputs": [],
   "source": []
  }
 ],
 "metadata": {
  "kernelspec": {
   "display_name": "Python 3",
   "language": "python",
   "name": "python3"
  },
  "language_info": {
   "codemirror_mode": {
    "name": "ipython",
    "version": 3
   },
   "file_extension": ".py",
   "mimetype": "text/x-python",
   "name": "python",
   "nbconvert_exporter": "python",
   "pygments_lexer": "ipython3",
   "version": "3.7.6"
  }
 },
 "nbformat": 4,
 "nbformat_minor": 4
}
